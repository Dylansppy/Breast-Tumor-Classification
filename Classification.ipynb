{
 "cells": [
  {
   "cell_type": "code",
   "execution_count": 12,
   "metadata": {},
   "outputs": [],
   "source": [
    "import numpy as np\n",
    "import matplotlib.pyplot as plt\n",
    "%matplotlib inline"
   ]
  },
  {
   "cell_type": "code",
   "execution_count": 15,
   "metadata": {},
   "outputs": [],
   "source": [
    "# Load Data\n",
    "X_40x_train = np.load('../data/features_from_vgg16/40/X.npy') # images\n",
    "y_40x_train = np.load('../data/features_from_vgg16/40/y.npy') # labels associated to images (0 = benign, 1 = malignant)"
   ]
  },
  {
   "cell_type": "code",
   "execution_count": 16,
   "metadata": {},
   "outputs": [
    {
     "name": "stdout",
     "output_type": "stream",
     "text": [
      "Total number of images: 1367\n",
      "Number of Benign Images: 428\n",
      "Number of Malignant Images: 939\n",
      "Percentage of positive images: 68.69%\n",
      "Image shape (?,Width, Height, Channels): (1, 7, 7, 512)\n"
     ]
    }
   ],
   "source": [
    "# Describe Data\n",
    "def describeData(X,y):\n",
    "    print('Total number of images: {}'.format(len(X)))\n",
    "    print('Number of Benign Images: {}'.format(np.sum(y==0)))\n",
    "    print('Number of Malignant Images: {}'.format(np.sum(y==1)))\n",
    "    print('Percentage of positive images: {:.2f}%'.format(100*np.mean(y)))\n",
    "    print('Image shape (?,Width, Height, Channels): {}'.format(X[0].shape))\n",
    "describeData(X_40x_train,y_40x_train)"
   ]
  },
  {
   "cell_type": "code",
   "execution_count": null,
   "metadata": {},
   "outputs": [],
   "source": []
  }
 ],
 "metadata": {
  "kernelspec": {
   "display_name": "Python 3",
   "language": "python",
   "name": "python3"
  },
  "language_info": {
   "codemirror_mode": {
    "name": "ipython",
    "version": 3
   },
   "file_extension": ".py",
   "mimetype": "text/x-python",
   "name": "python",
   "nbconvert_exporter": "python",
   "pygments_lexer": "ipython3",
   "version": "3.7.1"
  }
 },
 "nbformat": 4,
 "nbformat_minor": 2
}
